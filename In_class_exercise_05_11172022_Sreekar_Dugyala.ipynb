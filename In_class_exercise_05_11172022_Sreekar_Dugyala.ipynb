{
  "cells": [
    {
      "cell_type": "markdown",
      "metadata": {
        "id": "view-in-github",
        "colab_type": "text"
      },
      "source": [
        "<a href=\"https://colab.research.google.com/github/SreekarDugyala/Sreekar_INFO5731_Fall_2021/blob/main/In_class_exercise_05_11172022_Sreekar_Dugyala.ipynb\" target=\"_parent\"><img src=\"https://colab.research.google.com/assets/colab-badge.svg\" alt=\"Open In Colab\"/></a>"
      ]
    },
    {
      "cell_type": "markdown",
      "metadata": {
        "id": "lTeawFQHTfH1"
      },
      "source": [
        "# **The fifth in-class-exercise (40 points in total, 11/17/2022)**"
      ]
    },
    {
      "cell_type": "markdown",
      "metadata": {
        "id": "uiHxDr_zTfH5"
      },
      "source": [
        "(20 points) The purpose of the question is to practice different machine learning algorithms for text classification as well as the performance evaluation. In addition, you are requried to conduct *10 fold cross validation (https://scikit-learn.org/stable/modules/cross_validation.html)* in the training. \n",
        "\n",
        "The dataset can be download from canvas. The dataset contains two files train data and test data for sentiment analysis in IMDB review, it has two categories: 1 represents positive and 0 represents negative. You need to split the training data into training and validate data (80% for training and 20% for validation, https://towardsdatascience.com/train-test-split-and-cross-validation-in-python-80b61beca4b6) and perform 10 fold cross validation while training the classifier. The final trained model was final evaluated on the test data. \n",
        "\n",
        "Algorithms:\n",
        "\n",
        "(1) MultinominalNB\n",
        "\n",
        "(2) SVM \n",
        "\n",
        "(3) KNN \n",
        "\n",
        "(4) Decision tree\n",
        "\n",
        "(5) Random Forest\n",
        "\n",
        "(6) XGBoost\n",
        "\n",
        "Evaluation measurement:\n",
        "\n",
        "(1) Accuracy\n",
        "\n",
        "(2) Recall\n",
        "\n",
        "(3) Precison \n",
        "\n",
        "(4) F-1 score"
      ]
    },
    {
      "cell_type": "code",
      "execution_count": 2,
      "metadata": {
        "id": "kgQSiM4NTfH6"
      },
      "outputs": [],
      "source": [
        "# Write your code here\n",
        "\n",
        "import pandas as pd\n",
        "from xgboost import XGBClassifier\n",
        "from sklearn.svm import LinearSVC\n",
        "from sklearn.naive_bayes import MultinomialNB\n",
        "from sklearn.tree import DecisionTreeClassifier\n",
        "from sklearn.neighbors import KNeighborsClassifier\n",
        "from sklearn.ensemble import RandomForestClassifier\n",
        "from sklearn.metrics import accuracy_score, recall_score, precision_score, f1_score\n",
        "from sklearn.model_selection import train_test_split, cross_validate, StratifiedKFold\n",
        "\n",
        "Traindataframe = pd.read_csv(r'/content/stsa-train.txt',sep = 'delimiter=',header= None,names=['abstract'])\n",
        "Testdataframe = pd.read_csv(r'/content/stsa-test.txt',sep = 'delimiter=',header= None,names=['abstract'])\n",
        "\n",
        "Traindataframe[['Sentiment','abstract']] = Traindataframe[\"abstract\"].str.split(\" \", 1, expand=True)\n",
        "Testdataframe[['Sentiment','astract']] = Testdataframe[\"abstract\"].str.split(\" \", 1, expand=True)"
      ]
    },
    {
      "cell_type": "code",
      "source": [
        "print(Traindataframe.head())"
      ],
      "metadata": {
        "colab": {
          "base_uri": "https://localhost:8080/"
        },
        "id": "-v7HMwIiVFYR",
        "outputId": "11154e5c-27a4-46c8-c59d-4500962178d6"
      },
      "execution_count": 3,
      "outputs": [
        {
          "output_type": "stream",
          "name": "stdout",
          "text": [
            "                                            abstract Sentiment\n",
            "0  a stirring , funny and finally transporting re...         1\n",
            "1  apparently reassembled from the cutting-room f...         0\n",
            "2  they presume their audience wo n't sit still f...         0\n",
            "3  this is a visually stunning rumination on love...         1\n",
            "4  jonathan parker 's bartleby should have been t...         1\n"
          ]
        }
      ]
    },
    {
      "cell_type": "code",
      "source": [
        "print(Testdataframe.head())"
      ],
      "metadata": {
        "colab": {
          "base_uri": "https://localhost:8080/"
        },
        "id": "2pBm7NkIVN92",
        "outputId": "06d5a3cf-16ba-4829-9bf8-04d8e4359a61"
      },
      "execution_count": 4,
      "outputs": [
        {
          "output_type": "stream",
          "name": "stdout",
          "text": [
            "                                            abstract Sentiment  \\\n",
            "0   0 no movement , no yuks , not much of anything .         0   \n",
            "1  0 a gob of drivel so sickly sweet , even the e...         0   \n",
            "2  0 gangs of new york is an unapologetic mess , ...         0   \n",
            "3  0 we never really feel involved with the story...         0   \n",
            "4          1 this is one of polanski 's best films .         1   \n",
            "\n",
            "                                             astract  \n",
            "0     no movement , no yuks , not much of anything .  \n",
            "1  a gob of drivel so sickly sweet , even the eag...  \n",
            "2  gangs of new york is an unapologetic mess , wh...  \n",
            "3  we never really feel involved with the story ,...  \n",
            "4            this is one of polanski 's best films .  \n"
          ]
        }
      ]
    },
    {
      "cell_type": "code",
      "source": [
        "import nltk\n",
        "import re\n",
        "import string\n",
        "nltk.download('stopwords')\n",
        "nltk.download('wordnet')\n",
        "nltk.download('omw-1.4')\n",
        "sw = nltk.corpus.stopwords.words('english')\n",
        "from nltk.stem import WordNetLemmatizer\n",
        "WL= WordNetLemmatizer()\n",
        "\n",
        "def cleaneddata(T):\n",
        "  T =\"\".join([word.lower() for word in T if word not in string.punctuation])\n",
        "  T = re.sub(\"^\\d+\\s|\\s\\d+\\s|\\s\\d+$\", \" \", T)\n",
        "  phrases = re.split('\\W+',T)\n",
        "  T = [WL.lemmatize(word) for word in phrases if word not in sw]\n",
        "  return T"
      ],
      "metadata": {
        "colab": {
          "base_uri": "https://localhost:8080/"
        },
        "id": "RJddL8d6VQJw",
        "outputId": "e6b00fb3-c594-411d-e58d-02fdf9701ec0"
      },
      "execution_count": 7,
      "outputs": [
        {
          "output_type": "stream",
          "name": "stderr",
          "text": [
            "[nltk_data] Downloading package stopwords to /root/nltk_data...\n",
            "[nltk_data]   Package stopwords is already up-to-date!\n",
            "[nltk_data] Downloading package wordnet to /root/nltk_data...\n",
            "[nltk_data]   Package wordnet is already up-to-date!\n",
            "[nltk_data] Downloading package omw-1.4 to /root/nltk_data...\n"
          ]
        }
      ]
    },
    {
      "cell_type": "code",
      "source": [
        "from sklearn.feature_extraction.text import TfidfVectorizer\n",
        "\n",
        "tf_idf = TfidfVectorizer(analyzer = cleaneddata)\n",
        "tfidf1 = tf_idf.fit_transform(Traindataframe['abstract'])\n",
        "tfidf1.shape"
      ],
      "metadata": {
        "colab": {
          "base_uri": "https://localhost:8080/"
        },
        "id": "v-syTLA7VbIx",
        "outputId": "e569abc3-7348-46c4-9e0a-31125a3a4386"
      },
      "execution_count": 8,
      "outputs": [
        {
          "output_type": "execute_result",
          "data": {
            "text/plain": [
              "(6920, 13343)"
            ]
          },
          "metadata": {},
          "execution_count": 8
        }
      ]
    },
    {
      "cell_type": "code",
      "source": [
        "tf_idataframe = pd.DataFrame(tfidf1.toarray())\n",
        "tf_idataframe.columns=tf_idf.get_feature_names()\n",
        "tf_idataframe.head()"
      ],
      "metadata": {
        "colab": {
          "base_uri": "https://localhost:8080/",
          "height": 334
        },
        "id": "GkPjrP_DVmdU",
        "outputId": "78d11947-4000-4d76-acf1-f8d44110d628"
      },
      "execution_count": 9,
      "outputs": [
        {
          "output_type": "stream",
          "name": "stderr",
          "text": [
            "/usr/local/lib/python3.7/dist-packages/sklearn/utils/deprecation.py:87: FutureWarning: Function get_feature_names is deprecated; get_feature_names is deprecated in 1.0 and will be removed in 1.2. Please use get_feature_names_out instead.\n",
            "  warnings.warn(msg, category=FutureWarning)\n"
          ]
        },
        {
          "output_type": "execute_result",
          "data": {
            "text/plain": [
              "             100minute  103minute  10course  10th  10thgrade  10year  \\\n",
              "0  0.000000        0.0        0.0       0.0   0.0        0.0     0.0   \n",
              "1  0.048154        0.0        0.0       0.0   0.0        0.0     0.0   \n",
              "2  0.029784        0.0        0.0       0.0   0.0        0.0     0.0   \n",
              "3  0.049596        0.0        0.0       0.0   0.0        0.0     0.0   \n",
              "4  0.048782        0.0        0.0       0.0   0.0        0.0     0.0   \n",
              "\n",
              "   10yearold  112minute   12  ...  ziyi  zoe  zombie  zombieland  zone  \\\n",
              "0        0.0        0.0  0.0  ...   0.0  0.0     0.0         0.0   0.0   \n",
              "1        0.0        0.0  0.0  ...   0.0  0.0     0.0         0.0   0.0   \n",
              "2        0.0        0.0  0.0  ...   0.0  0.0     0.0         0.0   0.0   \n",
              "3        0.0        0.0  0.0  ...   0.0  0.0     0.0         0.0   0.0   \n",
              "4        0.0        0.0  0.0  ...   0.0  0.0     0.0         0.0   0.0   \n",
              "\n",
              "   zoning  zoom  zwick  zzzzzzzzz  élan  \n",
              "0     0.0   0.0    0.0        0.0   0.0  \n",
              "1     0.0   0.0    0.0        0.0   0.0  \n",
              "2     0.0   0.0    0.0        0.0   0.0  \n",
              "3     0.0   0.0    0.0        0.0   0.0  \n",
              "4     0.0   0.0    0.0        0.0   0.0  \n",
              "\n",
              "[5 rows x 13343 columns]"
            ],
            "text/html": [
              "\n",
              "  <div id=\"df-6ff0e906-122b-4370-bf4b-7d0bebd71af9\">\n",
              "    <div class=\"colab-df-container\">\n",
              "      <div>\n",
              "<style scoped>\n",
              "    .dataframe tbody tr th:only-of-type {\n",
              "        vertical-align: middle;\n",
              "    }\n",
              "\n",
              "    .dataframe tbody tr th {\n",
              "        vertical-align: top;\n",
              "    }\n",
              "\n",
              "    .dataframe thead th {\n",
              "        text-align: right;\n",
              "    }\n",
              "</style>\n",
              "<table border=\"1\" class=\"dataframe\">\n",
              "  <thead>\n",
              "    <tr style=\"text-align: right;\">\n",
              "      <th></th>\n",
              "      <th></th>\n",
              "      <th>100minute</th>\n",
              "      <th>103minute</th>\n",
              "      <th>10course</th>\n",
              "      <th>10th</th>\n",
              "      <th>10thgrade</th>\n",
              "      <th>10year</th>\n",
              "      <th>10yearold</th>\n",
              "      <th>112minute</th>\n",
              "      <th>12</th>\n",
              "      <th>...</th>\n",
              "      <th>ziyi</th>\n",
              "      <th>zoe</th>\n",
              "      <th>zombie</th>\n",
              "      <th>zombieland</th>\n",
              "      <th>zone</th>\n",
              "      <th>zoning</th>\n",
              "      <th>zoom</th>\n",
              "      <th>zwick</th>\n",
              "      <th>zzzzzzzzz</th>\n",
              "      <th>élan</th>\n",
              "    </tr>\n",
              "  </thead>\n",
              "  <tbody>\n",
              "    <tr>\n",
              "      <th>0</th>\n",
              "      <td>0.000000</td>\n",
              "      <td>0.0</td>\n",
              "      <td>0.0</td>\n",
              "      <td>0.0</td>\n",
              "      <td>0.0</td>\n",
              "      <td>0.0</td>\n",
              "      <td>0.0</td>\n",
              "      <td>0.0</td>\n",
              "      <td>0.0</td>\n",
              "      <td>0.0</td>\n",
              "      <td>...</td>\n",
              "      <td>0.0</td>\n",
              "      <td>0.0</td>\n",
              "      <td>0.0</td>\n",
              "      <td>0.0</td>\n",
              "      <td>0.0</td>\n",
              "      <td>0.0</td>\n",
              "      <td>0.0</td>\n",
              "      <td>0.0</td>\n",
              "      <td>0.0</td>\n",
              "      <td>0.0</td>\n",
              "    </tr>\n",
              "    <tr>\n",
              "      <th>1</th>\n",
              "      <td>0.048154</td>\n",
              "      <td>0.0</td>\n",
              "      <td>0.0</td>\n",
              "      <td>0.0</td>\n",
              "      <td>0.0</td>\n",
              "      <td>0.0</td>\n",
              "      <td>0.0</td>\n",
              "      <td>0.0</td>\n",
              "      <td>0.0</td>\n",
              "      <td>0.0</td>\n",
              "      <td>...</td>\n",
              "      <td>0.0</td>\n",
              "      <td>0.0</td>\n",
              "      <td>0.0</td>\n",
              "      <td>0.0</td>\n",
              "      <td>0.0</td>\n",
              "      <td>0.0</td>\n",
              "      <td>0.0</td>\n",
              "      <td>0.0</td>\n",
              "      <td>0.0</td>\n",
              "      <td>0.0</td>\n",
              "    </tr>\n",
              "    <tr>\n",
              "      <th>2</th>\n",
              "      <td>0.029784</td>\n",
              "      <td>0.0</td>\n",
              "      <td>0.0</td>\n",
              "      <td>0.0</td>\n",
              "      <td>0.0</td>\n",
              "      <td>0.0</td>\n",
              "      <td>0.0</td>\n",
              "      <td>0.0</td>\n",
              "      <td>0.0</td>\n",
              "      <td>0.0</td>\n",
              "      <td>...</td>\n",
              "      <td>0.0</td>\n",
              "      <td>0.0</td>\n",
              "      <td>0.0</td>\n",
              "      <td>0.0</td>\n",
              "      <td>0.0</td>\n",
              "      <td>0.0</td>\n",
              "      <td>0.0</td>\n",
              "      <td>0.0</td>\n",
              "      <td>0.0</td>\n",
              "      <td>0.0</td>\n",
              "    </tr>\n",
              "    <tr>\n",
              "      <th>3</th>\n",
              "      <td>0.049596</td>\n",
              "      <td>0.0</td>\n",
              "      <td>0.0</td>\n",
              "      <td>0.0</td>\n",
              "      <td>0.0</td>\n",
              "      <td>0.0</td>\n",
              "      <td>0.0</td>\n",
              "      <td>0.0</td>\n",
              "      <td>0.0</td>\n",
              "      <td>0.0</td>\n",
              "      <td>...</td>\n",
              "      <td>0.0</td>\n",
              "      <td>0.0</td>\n",
              "      <td>0.0</td>\n",
              "      <td>0.0</td>\n",
              "      <td>0.0</td>\n",
              "      <td>0.0</td>\n",
              "      <td>0.0</td>\n",
              "      <td>0.0</td>\n",
              "      <td>0.0</td>\n",
              "      <td>0.0</td>\n",
              "    </tr>\n",
              "    <tr>\n",
              "      <th>4</th>\n",
              "      <td>0.048782</td>\n",
              "      <td>0.0</td>\n",
              "      <td>0.0</td>\n",
              "      <td>0.0</td>\n",
              "      <td>0.0</td>\n",
              "      <td>0.0</td>\n",
              "      <td>0.0</td>\n",
              "      <td>0.0</td>\n",
              "      <td>0.0</td>\n",
              "      <td>0.0</td>\n",
              "      <td>...</td>\n",
              "      <td>0.0</td>\n",
              "      <td>0.0</td>\n",
              "      <td>0.0</td>\n",
              "      <td>0.0</td>\n",
              "      <td>0.0</td>\n",
              "      <td>0.0</td>\n",
              "      <td>0.0</td>\n",
              "      <td>0.0</td>\n",
              "      <td>0.0</td>\n",
              "      <td>0.0</td>\n",
              "    </tr>\n",
              "  </tbody>\n",
              "</table>\n",
              "<p>5 rows × 13343 columns</p>\n",
              "</div>\n",
              "      <button class=\"colab-df-convert\" onclick=\"convertToInteractive('df-6ff0e906-122b-4370-bf4b-7d0bebd71af9')\"\n",
              "              title=\"Convert this dataframe to an interactive table.\"\n",
              "              style=\"display:none;\">\n",
              "        \n",
              "  <svg xmlns=\"http://www.w3.org/2000/svg\" height=\"24px\"viewBox=\"0 0 24 24\"\n",
              "       width=\"24px\">\n",
              "    <path d=\"M0 0h24v24H0V0z\" fill=\"none\"/>\n",
              "    <path d=\"M18.56 5.44l.94 2.06.94-2.06 2.06-.94-2.06-.94-.94-2.06-.94 2.06-2.06.94zm-11 1L8.5 8.5l.94-2.06 2.06-.94-2.06-.94L8.5 2.5l-.94 2.06-2.06.94zm10 10l.94 2.06.94-2.06 2.06-.94-2.06-.94-.94-2.06-.94 2.06-2.06.94z\"/><path d=\"M17.41 7.96l-1.37-1.37c-.4-.4-.92-.59-1.43-.59-.52 0-1.04.2-1.43.59L10.3 9.45l-7.72 7.72c-.78.78-.78 2.05 0 2.83L4 21.41c.39.39.9.59 1.41.59.51 0 1.02-.2 1.41-.59l7.78-7.78 2.81-2.81c.8-.78.8-2.07 0-2.86zM5.41 20L4 18.59l7.72-7.72 1.47 1.35L5.41 20z\"/>\n",
              "  </svg>\n",
              "      </button>\n",
              "      \n",
              "  <style>\n",
              "    .colab-df-container {\n",
              "      display:flex;\n",
              "      flex-wrap:wrap;\n",
              "      gap: 12px;\n",
              "    }\n",
              "\n",
              "    .colab-df-convert {\n",
              "      background-color: #E8F0FE;\n",
              "      border: none;\n",
              "      border-radius: 50%;\n",
              "      cursor: pointer;\n",
              "      display: none;\n",
              "      fill: #1967D2;\n",
              "      height: 32px;\n",
              "      padding: 0 0 0 0;\n",
              "      width: 32px;\n",
              "    }\n",
              "\n",
              "    .colab-df-convert:hover {\n",
              "      background-color: #E2EBFA;\n",
              "      box-shadow: 0px 1px 2px rgba(60, 64, 67, 0.3), 0px 1px 3px 1px rgba(60, 64, 67, 0.15);\n",
              "      fill: #174EA6;\n",
              "    }\n",
              "\n",
              "    [theme=dark] .colab-df-convert {\n",
              "      background-color: #3B4455;\n",
              "      fill: #D2E3FC;\n",
              "    }\n",
              "\n",
              "    [theme=dark] .colab-df-convert:hover {\n",
              "      background-color: #434B5C;\n",
              "      box-shadow: 0px 1px 3px 1px rgba(0, 0, 0, 0.15);\n",
              "      filter: drop-shadow(0px 1px 2px rgba(0, 0, 0, 0.3));\n",
              "      fill: #FFFFFF;\n",
              "    }\n",
              "  </style>\n",
              "\n",
              "      <script>\n",
              "        const buttonEl =\n",
              "          document.querySelector('#df-6ff0e906-122b-4370-bf4b-7d0bebd71af9 button.colab-df-convert');\n",
              "        buttonEl.style.display =\n",
              "          google.colab.kernel.accessAllowed ? 'block' : 'none';\n",
              "\n",
              "        async function convertToInteractive(key) {\n",
              "          const element = document.querySelector('#df-6ff0e906-122b-4370-bf4b-7d0bebd71af9');\n",
              "          const dataTable =\n",
              "            await google.colab.kernel.invokeFunction('convertToInteractive',\n",
              "                                                     [key], {});\n",
              "          if (!dataTable) return;\n",
              "\n",
              "          const docLinkHtml = 'Like what you see? Visit the ' +\n",
              "            '<a target=\"_blank\" href=https://colab.research.google.com/notebooks/data_table.ipynb>data table notebook</a>'\n",
              "            + ' to learn more about interactive tables.';\n",
              "          element.innerHTML = '';\n",
              "          dataTable['output_type'] = 'display_data';\n",
              "          await google.colab.output.renderOutput(dataTable, element);\n",
              "          const docLink = document.createElement('div');\n",
              "          docLink.innerHTML = docLinkHtml;\n",
              "          element.appendChild(docLink);\n",
              "        }\n",
              "      </script>\n",
              "    </div>\n",
              "  </div>\n",
              "  "
            ]
          },
          "metadata": {},
          "execution_count": 9
        }
      ]
    },
    {
      "cell_type": "code",
      "source": [
        "Test_tfidf = tf_idf.transform(Testdataframe['abstract'])\n",
        "print(Test_tfidf.shape)"
      ],
      "metadata": {
        "colab": {
          "base_uri": "https://localhost:8080/"
        },
        "id": "1WAPP9pfVpe9",
        "outputId": "f1d8cee8-d0ba-4599-fbc4-21fa691e922c"
      },
      "execution_count": 10,
      "outputs": [
        {
          "output_type": "stream",
          "name": "stdout",
          "text": [
            "(1821, 13343)\n"
          ]
        }
      ]
    },
    {
      "cell_type": "code",
      "source": [
        "MNB = MultinomialNB()\n",
        "SVM = LinearSVC()\n",
        "KNN = KNeighborsClassifier(n_neighbors=5,n_jobs=-1)\n",
        "DT = DecisionTreeClassifier()\n",
        "RF = RandomForestClassifier()\n",
        "XGB = XGBClassifier()"
      ],
      "metadata": {
        "id": "uQ_2TYVcV9bO"
      },
      "execution_count": 12,
      "outputs": []
    },
    {
      "cell_type": "code",
      "source": [
        "train1, test1, train2, test2 = train_test_split(tfidf1, Traindataframe['Sentiment'].values,\n",
        "                                                test_size=0.2, random_state=42)"
      ],
      "metadata": {
        "id": "9E9ZCFY3WBON"
      },
      "execution_count": 13,
      "outputs": []
    },
    {
      "cell_type": "code",
      "source": [
        "MNB1 = MNB.fit(train1,train2)"
      ],
      "metadata": {
        "id": "qj1BEaD4WC96"
      },
      "execution_count": 14,
      "outputs": []
    },
    {
      "cell_type": "code",
      "source": [
        "from sklearn.metrics import accuracy_score\n",
        "from sklearn.metrics import classification_report\n",
        "FMNB = MNB1.predict(test1)\n",
        "print('Acc_result %s' % accuracy_score(FMNB,test2))\n",
        "print(classification_report(test2,FMNB))"
      ],
      "metadata": {
        "colab": {
          "base_uri": "https://localhost:8080/"
        },
        "id": "UdQFfc8mWHlA",
        "outputId": "f8480956-77f4-421a-ec0b-9f4ce7d88951"
      },
      "execution_count": 15,
      "outputs": [
        {
          "output_type": "stream",
          "name": "stdout",
          "text": [
            "Acc_result 0.7955202312138728\n",
            "              precision    recall  f1-score   support\n",
            "\n",
            "           0       0.85      0.70      0.77       671\n",
            "           1       0.76      0.88      0.82       713\n",
            "\n",
            "    accuracy                           0.80      1384\n",
            "   macro avg       0.80      0.79      0.79      1384\n",
            "weighted avg       0.80      0.80      0.79      1384\n",
            "\n"
          ]
        }
      ]
    },
    {
      "cell_type": "code",
      "source": [
        "from sklearn.model_selection import cross_val_score\n",
        "result = cross_val_score(MNB, test1, test2, cv=10)\n",
        "print(\"MNB_given\",result.mean())"
      ],
      "metadata": {
        "colab": {
          "base_uri": "https://localhost:8080/"
        },
        "id": "2VmW9qdUWLNo",
        "outputId": "0c139119-a182-41de-c1e8-029fc06d7ac8"
      },
      "execution_count": 16,
      "outputs": [
        {
          "output_type": "stream",
          "name": "stdout",
          "text": [
            "MNB_given 0.7247054530288813\n"
          ]
        }
      ]
    },
    {
      "cell_type": "code",
      "source": [
        "SVM1 = SVM.fit(train1,train2)\n",
        "FSVM = SVM1.predict(test1)\n",
        "print('Acc_result %s' % accuracy_score(FSVM,test2))\n",
        "print(classification_report(test2,FSVM))"
      ],
      "metadata": {
        "colab": {
          "base_uri": "https://localhost:8080/"
        },
        "id": "kn8r9jkKWPVH",
        "outputId": "664a64bf-bde0-4340-ede0-1051701a2d4d"
      },
      "execution_count": 18,
      "outputs": [
        {
          "output_type": "stream",
          "name": "stdout",
          "text": [
            "Acc_result 0.791907514450867\n",
            "              precision    recall  f1-score   support\n",
            "\n",
            "           0       0.81      0.75      0.78       671\n",
            "           1       0.78      0.83      0.80       713\n",
            "\n",
            "    accuracy                           0.79      1384\n",
            "   macro avg       0.79      0.79      0.79      1384\n",
            "weighted avg       0.79      0.79      0.79      1384\n",
            "\n"
          ]
        }
      ]
    },
    {
      "cell_type": "code",
      "source": [
        "from sklearn.model_selection import cross_val_score\n",
        "result = cross_val_score(SVM, test1, test2, cv=10)\n",
        "print(\"SVM_given\",result.mean())"
      ],
      "metadata": {
        "colab": {
          "base_uri": "https://localhost:8080/"
        },
        "id": "FJgEXYENWZlW",
        "outputId": "5911adb5-8352-45aa-a762-8be680f9a607"
      },
      "execution_count": 19,
      "outputs": [
        {
          "output_type": "stream",
          "name": "stdout",
          "text": [
            "SVM_given 0.7348034615785632\n"
          ]
        }
      ]
    },
    {
      "cell_type": "code",
      "source": [
        "KNN1 = KNN.fit(train1,train2)\n",
        "FKNN = KNN1.predict(test1)\n",
        "print('Acc_result %s' % accuracy_score(FKNN,test2))\n",
        "print(classification_report(test2,FKNN))"
      ],
      "metadata": {
        "colab": {
          "base_uri": "https://localhost:8080/"
        },
        "id": "DXGPt-4LWdY8",
        "outputId": "9f243df2-de8b-44ea-b871-f596fbde99a5"
      },
      "execution_count": 20,
      "outputs": [
        {
          "output_type": "stream",
          "name": "stdout",
          "text": [
            "Acc_result 0.740606936416185\n",
            "              precision    recall  f1-score   support\n",
            "\n",
            "           0       0.75      0.71      0.73       671\n",
            "           1       0.74      0.77      0.75       713\n",
            "\n",
            "    accuracy                           0.74      1384\n",
            "   macro avg       0.74      0.74      0.74      1384\n",
            "weighted avg       0.74      0.74      0.74      1384\n",
            "\n"
          ]
        }
      ]
    },
    {
      "cell_type": "code",
      "source": [
        "from sklearn.model_selection import cross_val_score\n",
        "result = cross_val_score(KNN, test1, test2, cv=10)\n",
        "print(\"KNN_given\",result.mean())"
      ],
      "metadata": {
        "colab": {
          "base_uri": "https://localhost:8080/"
        },
        "id": "Q167ye6_Wffd",
        "outputId": "dccc8cb9-5514-4d02-867b-ecf054ef83c0"
      },
      "execution_count": 21,
      "outputs": [
        {
          "output_type": "stream",
          "name": "stdout",
          "text": [
            "KNN_given 0.6675737670732979\n"
          ]
        }
      ]
    },
    {
      "cell_type": "code",
      "source": [
        "XGB1 = XGB.fit(train1,train2)\n",
        "FXGB = XGB1.predict(test1)\n",
        "result = cross_val_score(XGB, test1, test2, cv=10)\n",
        "print('Acc_result %s' % accuracy_score(FXGB,test2))\n",
        "print(classification_report(test2,FXGB))\n",
        "print(\"XGB_given\",result.mean())"
      ],
      "metadata": {
        "colab": {
          "base_uri": "https://localhost:8080/"
        },
        "id": "noblG9ueWjZq",
        "outputId": "a07a5fe4-faf5-4b3c-f85b-c19bc5f70393"
      },
      "execution_count": 22,
      "outputs": [
        {
          "output_type": "stream",
          "name": "stdout",
          "text": [
            "Acc_result 0.6488439306358381\n",
            "              precision    recall  f1-score   support\n",
            "\n",
            "           0       0.76      0.41      0.53       671\n",
            "           1       0.61      0.88      0.72       713\n",
            "\n",
            "    accuracy                           0.65      1384\n",
            "   macro avg       0.68      0.64      0.62      1384\n",
            "weighted avg       0.68      0.65      0.63      1384\n",
            "\n",
            "XGB_given 0.6198884370764259\n"
          ]
        }
      ]
    },
    {
      "cell_type": "code",
      "source": [
        "result = cross_val_score(DT, test1, test2, cv=10)\n",
        "print(\"DT_given\",result.mean())"
      ],
      "metadata": {
        "colab": {
          "base_uri": "https://localhost:8080/"
        },
        "id": "fBQh3EFWWvga",
        "outputId": "4392093a-fe17-47c0-dcc1-33921116bb09"
      },
      "execution_count": 23,
      "outputs": [
        {
          "output_type": "stream",
          "name": "stdout",
          "text": [
            "DT_given 0.6185121468042957\n"
          ]
        }
      ]
    },
    {
      "cell_type": "code",
      "source": [
        "RF1 = RF.fit(train1,train2)\n",
        "FRF = RF1.predict(test1)\n",
        "result = cross_val_score(RF, test1, test2, cv=10)\n",
        "print('Acc_result %s' % accuracy_score(FRF,test2))\n",
        "print(classification_report(test2,FRF))\n",
        "print(\"RF_given\",result.mean())"
      ],
      "metadata": {
        "colab": {
          "base_uri": "https://localhost:8080/"
        },
        "id": "Bm2rqTMbWzVA",
        "outputId": "e9d316e5-0294-47d2-fa46-f228017950e6"
      },
      "execution_count": 24,
      "outputs": [
        {
          "output_type": "stream",
          "name": "stdout",
          "text": [
            "Acc_result 0.7398843930635838\n",
            "              precision    recall  f1-score   support\n",
            "\n",
            "           0       0.79      0.64      0.70       671\n",
            "           1       0.71      0.84      0.77       713\n",
            "\n",
            "    accuracy                           0.74      1384\n",
            "   macro avg       0.75      0.74      0.74      1384\n",
            "weighted avg       0.75      0.74      0.74      1384\n",
            "\n",
            "RF_given 0.6798873944322802\n"
          ]
        }
      ]
    },
    {
      "cell_type": "code",
      "source": [
        "Test_MNB = MNB1.predict(Test_tfidf)\n",
        "print('Acc_result %s' % accuracy_score(Test_MNB,Testdataframe['Sentiment']))\n",
        "print(classification_report(Test_MNB,Testdataframe['Sentiment']))"
      ],
      "metadata": {
        "colab": {
          "base_uri": "https://localhost:8080/"
        },
        "id": "-PADa5ZaW1PS",
        "outputId": "fc0064b8-7ec0-4f85-fb56-429be986a94c"
      },
      "execution_count": 25,
      "outputs": [
        {
          "output_type": "stream",
          "name": "stdout",
          "text": [
            "Acc_result 0.7940691927512356\n",
            "              precision    recall  f1-score   support\n",
            "\n",
            "           0       0.69      0.87      0.77       729\n",
            "           1       0.89      0.74      0.81      1092\n",
            "\n",
            "    accuracy                           0.79      1821\n",
            "   macro avg       0.79      0.81      0.79      1821\n",
            "weighted avg       0.81      0.79      0.80      1821\n",
            "\n"
          ]
        }
      ]
    },
    {
      "cell_type": "code",
      "source": [
        "Test_SVM = SVM1.predict(Test_tfidf)\n",
        "print('Acc_result %s' % accuracy_score(Test_SVM,Testdataframe['Sentiment']))\n",
        "print(classification_report(Test_SVM,Testdataframe['Sentiment']))"
      ],
      "metadata": {
        "colab": {
          "base_uri": "https://localhost:8080/"
        },
        "id": "yK8PtehEW6B1",
        "outputId": "51cb67c8-b084-4ac5-bff5-662ac7f86fca"
      },
      "execution_count": 26,
      "outputs": [
        {
          "output_type": "stream",
          "name": "stdout",
          "text": [
            "Acc_result 0.7869302580999451\n",
            "              precision    recall  f1-score   support\n",
            "\n",
            "           0       0.75      0.81      0.78       838\n",
            "           1       0.83      0.77      0.79       983\n",
            "\n",
            "    accuracy                           0.79      1821\n",
            "   macro avg       0.79      0.79      0.79      1821\n",
            "weighted avg       0.79      0.79      0.79      1821\n",
            "\n"
          ]
        }
      ]
    },
    {
      "cell_type": "markdown",
      "metadata": {
        "id": "tjfZ3LrRTfH8"
      },
      "source": [
        "(20 points) The purpose of the question is to practice different machine learning algorithms for text clustering\n",
        "Please downlad the dataset by using the following link.  https://www.kaggle.com/PromptCloudHQ/amazon-reviews-unlocked-mobile-phones\n",
        "(You can also use different text data which you want)\n",
        "\n",
        "Apply the listed clustering methods to the dataset:\n",
        "\n",
        "K means, \n",
        "DBSCAN,\n",
        "Hierarchical clustering. \n",
        "\n",
        "You can refer to of the codes from  the follwing link below. \n",
        "https://www.kaggle.com/karthik3890/text-clustering "
      ]
    },
    {
      "cell_type": "code",
      "execution_count": 27,
      "metadata": {
        "colab": {
          "base_uri": "https://localhost:8080/"
        },
        "id": "WDSsBBA_TfH9",
        "outputId": "e6b4a861-ebbe-4740-a096-dfa7d59f2d65"
      },
      "outputs": [
        {
          "output_type": "stream",
          "name": "stderr",
          "text": [
            "[nltk_data] Downloading package punkt to /root/nltk_data...\n",
            "[nltk_data]   Unzipping tokenizers/punkt.zip.\n",
            "[nltk_data] Downloading package stopwords to /root/nltk_data...\n",
            "[nltk_data]   Package stopwords is already up-to-date!\n",
            "[nltk_data] Downloading package wordnet to /root/nltk_data...\n",
            "[nltk_data]   Package wordnet is already up-to-date!\n",
            "/usr/local/lib/python3.7/dist-packages/ipykernel_launcher.py:17: FutureWarning: The default value of regex will change from True to False in a future version.\n",
            "/usr/local/lib/python3.7/dist-packages/ipykernel_launcher.py:19: FutureWarning: The default value of regex will change from True to False in a future version.\n"
          ]
        }
      ],
      "source": [
        "#Write your code here.\n",
        "\n",
        "import pandas as pd\n",
        "import gensim\n",
        "Df=pd.read_csv(\"/content/Amazon_Unlocked_Mobile.csv\")\n",
        "import nltk\n",
        "nltk.download('punkt')\n",
        "from nltk.corpus import stopwords\n",
        "nltk.download('stopwords')\n",
        "from textblob import Word\n",
        "nltk.download('wordnet')\n",
        "from nltk.stem import PorterStemmer\n",
        "st = PorterStemmer()\n",
        "Df = Df[Df['Reviews'].notnull()]\n",
        "df = Df\n",
        "stop = stopwords.words('english')\n",
        "Df['puncless'] = Df['Reviews'].str.replace('[^\\w\\s].#','')\n",
        "Df['mstopwords'] =Df['puncless'].apply(lambda i: \" \".join(i for i in i.split() if i not in stop))\n",
        "Df['numbers']=Df['mstopwords'].str.replace('[0-9]','')\n",
        "Df['lowest'] =Df['numbers'].apply(lambda i: \" \".join(i.lower() for i in i.split()))\n",
        "\n",
        "Df['stemming']=Df['lowest'].apply(lambda i: \" \".join([st.stem(word) for word in i.split()]))\n",
        "Df['freshdata'] = Df['stemming'].apply(lambda i: \" \".join([Word(word).lemmatize() for word in i.split()]))\n"
      ]
    },
    {
      "cell_type": "code",
      "source": [
        "print(Df['freshdata'].head())"
      ],
      "metadata": {
        "colab": {
          "base_uri": "https://localhost:8080/"
        },
        "id": "qw6_eRI0YJLe",
        "outputId": "d8fc7b21-118a-4616-cfe9-3ead47fb66a2"
      },
      "execution_count": 28,
      "outputs": [
        {
          "output_type": "stream",
          "name": "stdout",
          "text": [
            "0    i feel lucki found use (phone u & use hard all...\n",
            "1    nice phone, nice grade pantach revue. veri cle...\n",
            "2                                            veri plea\n",
            "3      it work good goe slow sometim good phone i love\n",
            "4    great phone replac lost phone. the thing volum...\n",
            "Name: freshdata, dtype: object\n"
          ]
        }
      ]
    },
    {
      "cell_type": "code",
      "source": [
        "Df1=(df.sample(n=4000)).reset_index()"
      ],
      "metadata": {
        "id": "v1UFlJuUYJ8b"
      },
      "execution_count": 29,
      "outputs": []
    },
    {
      "cell_type": "code",
      "source": [
        "from sklearn.feature_extraction.text import TfidfVectorizer\n",
        "tf_idf = TfidfVectorizer()\n",
        "tfidf_result = tf_idf.fit_transform(Df1['freshdata'].values)\n",
        "print(tfidf_result.shape)"
      ],
      "metadata": {
        "colab": {
          "base_uri": "https://localhost:8080/"
        },
        "id": "wHR6IXr6YKJ0",
        "outputId": "21e8b8df-364d-46ad-c7cb-0f690df2e049"
      },
      "execution_count": 30,
      "outputs": [
        {
          "output_type": "stream",
          "name": "stdout",
          "text": [
            "(4000, 6903)\n"
          ]
        }
      ]
    },
    {
      "cell_type": "code",
      "source": [
        "from sklearn.cluster import KMeans\n",
        "Mtf_idf = KMeans(n_clusters = 5, random_state=99)\n",
        "Mtf_idf.fit(tfidf_result)"
      ],
      "metadata": {
        "colab": {
          "base_uri": "https://localhost:8080/"
        },
        "id": "Aj3t_n3UYKVS",
        "outputId": "f3f79583-9d24-4cd2-a2f1-e063893742b1"
      },
      "execution_count": 32,
      "outputs": [
        {
          "output_type": "execute_result",
          "data": {
            "text/plain": [
              "KMeans(n_clusters=5, random_state=99)"
            ]
          },
          "metadata": {},
          "execution_count": 32
        }
      ]
    },
    {
      "cell_type": "code",
      "source": [
        "tfidf_labelling = Mtf_idf.labels_\n",
        "tfidf_clustering=Mtf_idf.cluster_centers_"
      ],
      "metadata": {
        "id": "cep5NH85YZOF"
      },
      "execution_count": 33,
      "outputs": []
    },
    {
      "cell_type": "code",
      "source": [
        "variables = tf_idf.get_feature_names()\n",
        "variables[1:5]\n",
        "Df1['tf_idf cluster labelling'] = tfidf_labelling\n",
        "Df1.head(5)"
      ],
      "metadata": {
        "colab": {
          "base_uri": "https://localhost:8080/",
          "height": 773
        },
        "id": "iAsyIYy8YZfL",
        "outputId": "bdfd95d2-c74d-4f20-f468-e1fce12661d1"
      },
      "execution_count": 34,
      "outputs": [
        {
          "output_type": "stream",
          "name": "stderr",
          "text": [
            "/usr/local/lib/python3.7/dist-packages/sklearn/utils/deprecation.py:87: FutureWarning: Function get_feature_names is deprecated; get_feature_names is deprecated in 1.0 and will be removed in 1.2. Please use get_feature_names_out instead.\n",
            "  warnings.warn(msg, category=FutureWarning)\n"
          ]
        },
        {
          "output_type": "execute_result",
          "data": {
            "text/plain": [
              "    index                                       Product Name  Brand Name  \\\n",
              "0  157340  BLU Tank II T193 Unlocked GSM Dual-SIM Cell Ph...         BLU   \n",
              "1  176013  CNPGD All-in-1 Watch Cell Phone & Smart Watch ...         NaN   \n",
              "2  280113  OtterBox 77-29864 Defender Series Hybrid Case ...    OtterBox   \n",
              "3   98060  Blackberry Q10 SQN100-1 16GB 4G LTE Unlocked G...  BlackBerry   \n",
              "4   70952  Apple iPhone 6S Plus Unlocked Smartphone, 32 G...       Apple   \n",
              "\n",
              "    Price  Rating                                            Reviews  \\\n",
              "0   18.93       5                   Excellent all well very perfect.   \n",
              "1   49.99       2  It's used and there is some privete informatio...   \n",
              "2    9.99       5  This box is just amazing. It turned a battered...   \n",
              "3  149.95       5  Phone arrived in perfect condition in sealed o...   \n",
              "4  749.99       5                                         i love it!   \n",
              "\n",
              "   Review Votes                                           puncless  \\\n",
              "0           0.0                   Excellent all well very perfect.   \n",
              "1           0.0  It's used and there is some privete informatio...   \n",
              "2           0.0  This box is just amazing. It turned a battered...   \n",
              "3           5.0  Phone arrived in perfect condition in sealed o...   \n",
              "4           1.0                                         i love it!   \n",
              "\n",
              "                                          mstopwords  \\\n",
              "0                            Excellent well perfect.   \n",
              "1  It's used privete information it. I can't reco...   \n",
              "2  This box amazing. It turned battered scratched...   \n",
              "3  Phone arrived perfect condition sealed origina...   \n",
              "4                                           love it!   \n",
              "\n",
              "                                             numbers  \\\n",
              "0                            Excellent well perfect.   \n",
              "1  It's used privete information it. I can't reco...   \n",
              "2  This box amazing. It turned battered scratched...   \n",
              "3  Phone arrived perfect condition sealed origina...   \n",
              "4                                           love it!   \n",
              "\n",
              "                                              lowest  \\\n",
              "0                            excellent well perfect.   \n",
              "1  it's used privete information it. i can't reco...   \n",
              "2  this box amazing. it turned battered scratched...   \n",
              "3  phone arrived perfect condition sealed origina...   \n",
              "4                                           love it!   \n",
              "\n",
              "                                            stemming  \\\n",
              "0                                excel well perfect.   \n",
              "1        it' use privet inform it. i can't recov pin   \n",
              "2  thi box amazing. it turn batter scratch tablet...   \n",
              "3  phone arriv perfect condit seal origin packag ...   \n",
              "4                                           love it!   \n",
              "\n",
              "                                           freshdata  tf_idf cluster labelling  \n",
              "0                                excel well perfect.                         0  \n",
              "1        it' use privet inform it. i can't recov pin                         2  \n",
              "2  thi box amazing. it turn batter scratch tablet...                         2  \n",
              "3  phone arriv perfect condit seal origin packag ...                         2  \n",
              "4                                           love it!                         4  "
            ],
            "text/html": [
              "\n",
              "  <div id=\"df-b182ba07-ef05-4e4c-9010-f6384ece4bdd\">\n",
              "    <div class=\"colab-df-container\">\n",
              "      <div>\n",
              "<style scoped>\n",
              "    .dataframe tbody tr th:only-of-type {\n",
              "        vertical-align: middle;\n",
              "    }\n",
              "\n",
              "    .dataframe tbody tr th {\n",
              "        vertical-align: top;\n",
              "    }\n",
              "\n",
              "    .dataframe thead th {\n",
              "        text-align: right;\n",
              "    }\n",
              "</style>\n",
              "<table border=\"1\" class=\"dataframe\">\n",
              "  <thead>\n",
              "    <tr style=\"text-align: right;\">\n",
              "      <th></th>\n",
              "      <th>index</th>\n",
              "      <th>Product Name</th>\n",
              "      <th>Brand Name</th>\n",
              "      <th>Price</th>\n",
              "      <th>Rating</th>\n",
              "      <th>Reviews</th>\n",
              "      <th>Review Votes</th>\n",
              "      <th>puncless</th>\n",
              "      <th>mstopwords</th>\n",
              "      <th>numbers</th>\n",
              "      <th>lowest</th>\n",
              "      <th>stemming</th>\n",
              "      <th>freshdata</th>\n",
              "      <th>tf_idf cluster labelling</th>\n",
              "    </tr>\n",
              "  </thead>\n",
              "  <tbody>\n",
              "    <tr>\n",
              "      <th>0</th>\n",
              "      <td>157340</td>\n",
              "      <td>BLU Tank II T193 Unlocked GSM Dual-SIM Cell Ph...</td>\n",
              "      <td>BLU</td>\n",
              "      <td>18.93</td>\n",
              "      <td>5</td>\n",
              "      <td>Excellent all well very perfect.</td>\n",
              "      <td>0.0</td>\n",
              "      <td>Excellent all well very perfect.</td>\n",
              "      <td>Excellent well perfect.</td>\n",
              "      <td>Excellent well perfect.</td>\n",
              "      <td>excellent well perfect.</td>\n",
              "      <td>excel well perfect.</td>\n",
              "      <td>excel well perfect.</td>\n",
              "      <td>0</td>\n",
              "    </tr>\n",
              "    <tr>\n",
              "      <th>1</th>\n",
              "      <td>176013</td>\n",
              "      <td>CNPGD All-in-1 Watch Cell Phone &amp; Smart Watch ...</td>\n",
              "      <td>NaN</td>\n",
              "      <td>49.99</td>\n",
              "      <td>2</td>\n",
              "      <td>It's used and there is some privete informatio...</td>\n",
              "      <td>0.0</td>\n",
              "      <td>It's used and there is some privete informatio...</td>\n",
              "      <td>It's used privete information it. I can't reco...</td>\n",
              "      <td>It's used privete information it. I can't reco...</td>\n",
              "      <td>it's used privete information it. i can't reco...</td>\n",
              "      <td>it' use privet inform it. i can't recov pin</td>\n",
              "      <td>it' use privet inform it. i can't recov pin</td>\n",
              "      <td>2</td>\n",
              "    </tr>\n",
              "    <tr>\n",
              "      <th>2</th>\n",
              "      <td>280113</td>\n",
              "      <td>OtterBox 77-29864 Defender Series Hybrid Case ...</td>\n",
              "      <td>OtterBox</td>\n",
              "      <td>9.99</td>\n",
              "      <td>5</td>\n",
              "      <td>This box is just amazing. It turned a battered...</td>\n",
              "      <td>0.0</td>\n",
              "      <td>This box is just amazing. It turned a battered...</td>\n",
              "      <td>This box amazing. It turned battered scratched...</td>\n",
              "      <td>This box amazing. It turned battered scratched...</td>\n",
              "      <td>this box amazing. it turned battered scratched...</td>\n",
              "      <td>thi box amazing. it turn batter scratch tablet...</td>\n",
              "      <td>thi box amazing. it turn batter scratch tablet...</td>\n",
              "      <td>2</td>\n",
              "    </tr>\n",
              "    <tr>\n",
              "      <th>3</th>\n",
              "      <td>98060</td>\n",
              "      <td>Blackberry Q10 SQN100-1 16GB 4G LTE Unlocked G...</td>\n",
              "      <td>BlackBerry</td>\n",
              "      <td>149.95</td>\n",
              "      <td>5</td>\n",
              "      <td>Phone arrived in perfect condition in sealed o...</td>\n",
              "      <td>5.0</td>\n",
              "      <td>Phone arrived in perfect condition in sealed o...</td>\n",
              "      <td>Phone arrived perfect condition sealed origina...</td>\n",
              "      <td>Phone arrived perfect condition sealed origina...</td>\n",
              "      <td>phone arrived perfect condition sealed origina...</td>\n",
              "      <td>phone arriv perfect condit seal origin packag ...</td>\n",
              "      <td>phone arriv perfect condit seal origin packag ...</td>\n",
              "      <td>2</td>\n",
              "    </tr>\n",
              "    <tr>\n",
              "      <th>4</th>\n",
              "      <td>70952</td>\n",
              "      <td>Apple iPhone 6S Plus Unlocked Smartphone, 32 G...</td>\n",
              "      <td>Apple</td>\n",
              "      <td>749.99</td>\n",
              "      <td>5</td>\n",
              "      <td>i love it!</td>\n",
              "      <td>1.0</td>\n",
              "      <td>i love it!</td>\n",
              "      <td>love it!</td>\n",
              "      <td>love it!</td>\n",
              "      <td>love it!</td>\n",
              "      <td>love it!</td>\n",
              "      <td>love it!</td>\n",
              "      <td>4</td>\n",
              "    </tr>\n",
              "  </tbody>\n",
              "</table>\n",
              "</div>\n",
              "      <button class=\"colab-df-convert\" onclick=\"convertToInteractive('df-b182ba07-ef05-4e4c-9010-f6384ece4bdd')\"\n",
              "              title=\"Convert this dataframe to an interactive table.\"\n",
              "              style=\"display:none;\">\n",
              "        \n",
              "  <svg xmlns=\"http://www.w3.org/2000/svg\" height=\"24px\"viewBox=\"0 0 24 24\"\n",
              "       width=\"24px\">\n",
              "    <path d=\"M0 0h24v24H0V0z\" fill=\"none\"/>\n",
              "    <path d=\"M18.56 5.44l.94 2.06.94-2.06 2.06-.94-2.06-.94-.94-2.06-.94 2.06-2.06.94zm-11 1L8.5 8.5l.94-2.06 2.06-.94-2.06-.94L8.5 2.5l-.94 2.06-2.06.94zm10 10l.94 2.06.94-2.06 2.06-.94-2.06-.94-.94-2.06-.94 2.06-2.06.94z\"/><path d=\"M17.41 7.96l-1.37-1.37c-.4-.4-.92-.59-1.43-.59-.52 0-1.04.2-1.43.59L10.3 9.45l-7.72 7.72c-.78.78-.78 2.05 0 2.83L4 21.41c.39.39.9.59 1.41.59.51 0 1.02-.2 1.41-.59l7.78-7.78 2.81-2.81c.8-.78.8-2.07 0-2.86zM5.41 20L4 18.59l7.72-7.72 1.47 1.35L5.41 20z\"/>\n",
              "  </svg>\n",
              "      </button>\n",
              "      \n",
              "  <style>\n",
              "    .colab-df-container {\n",
              "      display:flex;\n",
              "      flex-wrap:wrap;\n",
              "      gap: 12px;\n",
              "    }\n",
              "\n",
              "    .colab-df-convert {\n",
              "      background-color: #E8F0FE;\n",
              "      border: none;\n",
              "      border-radius: 50%;\n",
              "      cursor: pointer;\n",
              "      display: none;\n",
              "      fill: #1967D2;\n",
              "      height: 32px;\n",
              "      padding: 0 0 0 0;\n",
              "      width: 32px;\n",
              "    }\n",
              "\n",
              "    .colab-df-convert:hover {\n",
              "      background-color: #E2EBFA;\n",
              "      box-shadow: 0px 1px 2px rgba(60, 64, 67, 0.3), 0px 1px 3px 1px rgba(60, 64, 67, 0.15);\n",
              "      fill: #174EA6;\n",
              "    }\n",
              "\n",
              "    [theme=dark] .colab-df-convert {\n",
              "      background-color: #3B4455;\n",
              "      fill: #D2E3FC;\n",
              "    }\n",
              "\n",
              "    [theme=dark] .colab-df-convert:hover {\n",
              "      background-color: #434B5C;\n",
              "      box-shadow: 0px 1px 3px 1px rgba(0, 0, 0, 0.15);\n",
              "      filter: drop-shadow(0px 1px 2px rgba(0, 0, 0, 0.3));\n",
              "      fill: #FFFFFF;\n",
              "    }\n",
              "  </style>\n",
              "\n",
              "      <script>\n",
              "        const buttonEl =\n",
              "          document.querySelector('#df-b182ba07-ef05-4e4c-9010-f6384ece4bdd button.colab-df-convert');\n",
              "        buttonEl.style.display =\n",
              "          google.colab.kernel.accessAllowed ? 'block' : 'none';\n",
              "\n",
              "        async function convertToInteractive(key) {\n",
              "          const element = document.querySelector('#df-b182ba07-ef05-4e4c-9010-f6384ece4bdd');\n",
              "          const dataTable =\n",
              "            await google.colab.kernel.invokeFunction('convertToInteractive',\n",
              "                                                     [key], {});\n",
              "          if (!dataTable) return;\n",
              "\n",
              "          const docLinkHtml = 'Like what you see? Visit the ' +\n",
              "            '<a target=\"_blank\" href=https://colab.research.google.com/notebooks/data_table.ipynb>data table notebook</a>'\n",
              "            + ' to learn more about interactive tables.';\n",
              "          element.innerHTML = '';\n",
              "          dataTable['output_type'] = 'display_data';\n",
              "          await google.colab.output.renderOutput(dataTable, element);\n",
              "          const docLink = document.createElement('div');\n",
              "          docLink.innerHTML = docLinkHtml;\n",
              "          element.appendChild(docLink);\n",
              "        }\n",
              "      </script>\n",
              "    </div>\n",
              "  </div>\n",
              "  "
            ]
          },
          "metadata": {},
          "execution_count": 34
        }
      ]
    },
    {
      "cell_type": "code",
      "source": [
        "Df1.groupby(['tf_idf cluster labelling'])['freshdata'].count()"
      ],
      "metadata": {
        "colab": {
          "base_uri": "https://localhost:8080/"
        },
        "id": "zU70pruuYZrY",
        "outputId": "9555c7be-be74-4cde-edcc-fd48dce2fec8"
      },
      "execution_count": 35,
      "outputs": [
        {
          "output_type": "execute_result",
          "data": {
            "text/plain": [
              "tf_idf cluster labelling\n",
              "0     132\n",
              "1     175\n",
              "2    3332\n",
              "3      73\n",
              "4     288\n",
              "Name: freshdata, dtype: int64"
            ]
          },
          "metadata": {},
          "execution_count": 35
        }
      ]
    },
    {
      "cell_type": "code",
      "source": [
        "centers = Mtf_idf.cluster_centers_.argsort()[:, ::-1]\n",
        "for a in range(1,5):\n",
        "    print(\"Cluster %d:\" % a, end='')\n",
        "    for ind in centers[a, :7]:\n",
        "        print(' %s' % variables[ind], end='')\n",
        "        print()"
      ],
      "metadata": {
        "colab": {
          "base_uri": "https://localhost:8080/"
        },
        "id": "nAgPfh1CYrVR",
        "outputId": "1e403f65-876b-4006-bb1e-e3329024d499"
      },
      "execution_count": 36,
      "outputs": [
        {
          "output_type": "stream",
          "name": "stdout",
          "text": [
            "Cluster 1: good\n",
            " veri\n",
            " phone\n",
            " product\n",
            " it\n",
            " work\n",
            " price\n",
            "Cluster 2: phone\n",
            " it\n",
            " work\n",
            " good\n",
            " the\n",
            " use\n",
            " great\n",
            "Cluster 3: excelent\n",
            " producto\n",
            " recomendado\n",
            " gracia\n",
            " telefono\n",
            " alright\n",
            " shown\n",
            "Cluster 4: great\n",
            " love\n",
            " phone\n",
            " work\n",
            " it\n",
            " price\n",
            " product\n"
          ]
        }
      ]
    },
    {
      "cell_type": "code",
      "source": [
        "from sklearn.cluster import DBSCAN\n",
        "import numpy as np\n",
        "import matplotlib.pyplot as plt\n",
        "import gensim\n",
        "a=0\n",
        "list=[]\n",
        "for b in Df1['freshdata'].values:\n",
        "    list.append(b.split())\n",
        "wmword = gensim.models.Word2Vec(list,size=100, workers=4)\n",
        "import numpy as np\n",
        "vectors = [];\n",
        "for b in list:\n",
        "    vector1 = np.zeros(100)\n",
        "    count = 0;\n",
        "    for w in b:\n",
        "        try:\n",
        "            vector2 = wmword.wv[w]\n",
        "            vector1 += vector2\n",
        "            count += 1\n",
        "        except:\n",
        "            pass\n",
        "    vector1 /= count\n",
        "    vectors.append(vector1)\n",
        "vectors = np.array(vectors)\n",
        "vectors = np.nan_to_num(vectors)\n",
        "vectors.shape"
      ],
      "metadata": {
        "colab": {
          "base_uri": "https://localhost:8080/"
        },
        "id": "VFOr9IJYYrjv",
        "outputId": "f07a124b-15a9-4bc3-c1c9-7b06c91c6fdf"
      },
      "execution_count": 37,
      "outputs": [
        {
          "output_type": "stream",
          "name": "stderr",
          "text": [
            "/usr/local/lib/python3.7/dist-packages/ipykernel_launcher.py:22: RuntimeWarning: invalid value encountered in true_divide\n"
          ]
        },
        {
          "output_type": "execute_result",
          "data": {
            "text/plain": [
              "(4000, 100)"
            ]
          },
          "metadata": {},
          "execution_count": 37
        }
      ]
    },
    {
      "cell_type": "code",
      "source": [
        "points = 2 * 100\n",
        "def lower_bound(num, reach): \n",
        "    l, u = 0, len(num) - 1\n",
        "    while l <= u: \n",
        "        c = int(l + (u - l) / 2)\n",
        "        if num[c] >= reach:\n",
        "            u = c - 1\n",
        "        else:\n",
        "            l = c + 1\n",
        "    return l\n",
        "\n",
        "def computing (i, text): \n",
        "    distances = []\n",
        "    for v in text:\n",
        "        distance = np.sum((i - v) **2 ) \n",
        "        if(len(distances) == 200 and distances[199] > distance): \n",
        "            l = int(lower_bound(distances, distance))\n",
        "            if l < 200 and l >= 0 and distances[l] > distance:\n",
        "                distances[l] = distance\n",
        "        else:\n",
        "            distances.append(distance)\n",
        "            distances.sort()\n",
        "    \n",
        "    return distances[199]"
      ],
      "metadata": {
        "id": "X4GJF_qwYrvR"
      },
      "execution_count": 39,
      "outputs": []
    },
    {
      "cell_type": "code",
      "source": [
        "neighbour = []\n",
        "for v in vectors[:500]:\n",
        "    neighbour.append(computing(v, vectors[:500]) )\n",
        "neighbour.sort()"
      ],
      "metadata": {
        "id": "UTUKTWKgY6ST"
      },
      "execution_count": 40,
      "outputs": []
    },
    {
      "cell_type": "code",
      "source": [
        "plt.figure(figsize=(10,3))\n",
        "plt.title(\"Method\")\n",
        "plt.plot([i for i in range(len(neighbour))], neighbour)\n",
        "plt.xlabel(\"all the points\")\n",
        "plt.ylabel(\"Distance of neighbour\")\n",
        "plt.show()"
      ],
      "metadata": {
        "colab": {
          "base_uri": "https://localhost:8080/",
          "height": 241
        },
        "id": "tU7Y01doY7Lk",
        "outputId": "5d9165e9-0124-426e-d76e-cb78d4849872"
      },
      "execution_count": 41,
      "outputs": [
        {
          "output_type": "display_data",
          "data": {
            "text/plain": [
              "<Figure size 720x216 with 1 Axes>"
            ],
            "image/png": "[encoded data removed]"
          },
          "metadata": {
            "needs_background": "light"
          }
        }
      ]
    },
    {
      "cell_type": "code",
      "source": [
        "design = DBSCAN(eps = 8, min_samples = points, n_jobs=-2)\n",
        "design.fit(vectors)\n",
        "Df1['WMword design'] = design.labels_\n",
        "Df1.head(4)"
      ],
      "metadata": {
        "colab": {
          "base_uri": "https://localhost:8080/",
          "height": 655
        },
        "id": "ZNwRKqJxZA34",
        "outputId": "d3ea90de-f0f8-42e8-b206-849e352d5c37"
      },
      "execution_count": 42,
      "outputs": [
        {
          "output_type": "execute_result",
          "data": {
            "text/plain": [
              "    index                                       Product Name  Brand Name  \\\n",
              "0  157340  BLU Tank II T193 Unlocked GSM Dual-SIM Cell Ph...         BLU   \n",
              "1  176013  CNPGD All-in-1 Watch Cell Phone & Smart Watch ...         NaN   \n",
              "2  280113  OtterBox 77-29864 Defender Series Hybrid Case ...    OtterBox   \n",
              "3   98060  Blackberry Q10 SQN100-1 16GB 4G LTE Unlocked G...  BlackBerry   \n",
              "\n",
              "    Price  Rating                                            Reviews  \\\n",
              "0   18.93       5                   Excellent all well very perfect.   \n",
              "1   49.99       2  It's used and there is some privete informatio...   \n",
              "2    9.99       5  This box is just amazing. It turned a battered...   \n",
              "3  149.95       5  Phone arrived in perfect condition in sealed o...   \n",
              "\n",
              "   Review Votes                                           puncless  \\\n",
              "0           0.0                   Excellent all well very perfect.   \n",
              "1           0.0  It's used and there is some privete informatio...   \n",
              "2           0.0  This box is just amazing. It turned a battered...   \n",
              "3           5.0  Phone arrived in perfect condition in sealed o...   \n",
              "\n",
              "                                          mstopwords  \\\n",
              "0                            Excellent well perfect.   \n",
              "1  It's used privete information it. I can't reco...   \n",
              "2  This box amazing. It turned battered scratched...   \n",
              "3  Phone arrived perfect condition sealed origina...   \n",
              "\n",
              "                                             numbers  \\\n",
              "0                            Excellent well perfect.   \n",
              "1  It's used privete information it. I can't reco...   \n",
              "2  This box amazing. It turned battered scratched...   \n",
              "3  Phone arrived perfect condition sealed origina...   \n",
              "\n",
              "                                              lowest  \\\n",
              "0                            excellent well perfect.   \n",
              "1  it's used privete information it. i can't reco...   \n",
              "2  this box amazing. it turned battered scratched...   \n",
              "3  phone arrived perfect condition sealed origina...   \n",
              "\n",
              "                                            stemming  \\\n",
              "0                                excel well perfect.   \n",
              "1        it' use privet inform it. i can't recov pin   \n",
              "2  thi box amazing. it turn batter scratch tablet...   \n",
              "3  phone arriv perfect condit seal origin packag ...   \n",
              "\n",
              "                                           freshdata  \\\n",
              "0                                excel well perfect.   \n",
              "1        it' use privet inform it. i can't recov pin   \n",
              "2  thi box amazing. it turn batter scratch tablet...   \n",
              "3  phone arriv perfect condit seal origin packag ...   \n",
              "\n",
              "   tf_idf cluster labelling  WMword design  \n",
              "0                         0              0  \n",
              "1                         2              0  \n",
              "2                         2              0  \n",
              "3                         2              0  "
            ],
            "text/html": [
              "\n",
              "  <div id=\"df-1af58196-482b-456d-98d0-b3928eaabb82\">\n",
              "    <div class=\"colab-df-container\">\n",
              "      <div>\n",
              "<style scoped>\n",
              "    .dataframe tbody tr th:only-of-type {\n",
              "        vertical-align: middle;\n",
              "    }\n",
              "\n",
              "    .dataframe tbody tr th {\n",
              "        vertical-align: top;\n",
              "    }\n",
              "\n",
              "    .dataframe thead th {\n",
              "        text-align: right;\n",
              "    }\n",
              "</style>\n",
              "<table border=\"1\" class=\"dataframe\">\n",
              "  <thead>\n",
              "    <tr style=\"text-align: right;\">\n",
              "      <th></th>\n",
              "      <th>index</th>\n",
              "      <th>Product Name</th>\n",
              "      <th>Brand Name</th>\n",
              "      <th>Price</th>\n",
              "      <th>Rating</th>\n",
              "      <th>Reviews</th>\n",
              "      <th>Review Votes</th>\n",
              "      <th>puncless</th>\n",
              "      <th>mstopwords</th>\n",
              "      <th>numbers</th>\n",
              "      <th>lowest</th>\n",
              "      <th>stemming</th>\n",
              "      <th>freshdata</th>\n",
              "      <th>tf_idf cluster labelling</th>\n",
              "      <th>WMword design</th>\n",
              "    </tr>\n",
              "  </thead>\n",
              "  <tbody>\n",
              "    <tr>\n",
              "      <th>0</th>\n",
              "      <td>157340</td>\n",
              "      <td>BLU Tank II T193 Unlocked GSM Dual-SIM Cell Ph...</td>\n",
              "      <td>BLU</td>\n",
              "      <td>18.93</td>\n",
              "      <td>5</td>\n",
              "      <td>Excellent all well very perfect.</td>\n",
              "      <td>0.0</td>\n",
              "      <td>Excellent all well very perfect.</td>\n",
              "      <td>Excellent well perfect.</td>\n",
              "      <td>Excellent well perfect.</td>\n",
              "      <td>excellent well perfect.</td>\n",
              "      <td>excel well perfect.</td>\n",
              "      <td>excel well perfect.</td>\n",
              "      <td>0</td>\n",
              "      <td>0</td>\n",
              "    </tr>\n",
              "    <tr>\n",
              "      <th>1</th>\n",
              "      <td>176013</td>\n",
              "      <td>CNPGD All-in-1 Watch Cell Phone &amp; Smart Watch ...</td>\n",
              "      <td>NaN</td>\n",
              "      <td>49.99</td>\n",
              "      <td>2</td>\n",
              "      <td>It's used and there is some privete informatio...</td>\n",
              "      <td>0.0</td>\n",
              "      <td>It's used and there is some privete informatio...</td>\n",
              "      <td>It's used privete information it. I can't reco...</td>\n",
              "      <td>It's used privete information it. I can't reco...</td>\n",
              "      <td>it's used privete information it. i can't reco...</td>\n",
              "      <td>it' use privet inform it. i can't recov pin</td>\n",
              "      <td>it' use privet inform it. i can't recov pin</td>\n",
              "      <td>2</td>\n",
              "      <td>0</td>\n",
              "    </tr>\n",
              "    <tr>\n",
              "      <th>2</th>\n",
              "      <td>280113</td>\n",
              "      <td>OtterBox 77-29864 Defender Series Hybrid Case ...</td>\n",
              "      <td>OtterBox</td>\n",
              "      <td>9.99</td>\n",
              "      <td>5</td>\n",
              "      <td>This box is just amazing. It turned a battered...</td>\n",
              "      <td>0.0</td>\n",
              "      <td>This box is just amazing. It turned a battered...</td>\n",
              "      <td>This box amazing. It turned battered scratched...</td>\n",
              "      <td>This box amazing. It turned battered scratched...</td>\n",
              "      <td>this box amazing. it turned battered scratched...</td>\n",
              "      <td>thi box amazing. it turn batter scratch tablet...</td>\n",
              "      <td>thi box amazing. it turn batter scratch tablet...</td>\n",
              "      <td>2</td>\n",
              "      <td>0</td>\n",
              "    </tr>\n",
              "    <tr>\n",
              "      <th>3</th>\n",
              "      <td>98060</td>\n",
              "      <td>Blackberry Q10 SQN100-1 16GB 4G LTE Unlocked G...</td>\n",
              "      <td>BlackBerry</td>\n",
              "      <td>149.95</td>\n",
              "      <td>5</td>\n",
              "      <td>Phone arrived in perfect condition in sealed o...</td>\n",
              "      <td>5.0</td>\n",
              "      <td>Phone arrived in perfect condition in sealed o...</td>\n",
              "      <td>Phone arrived perfect condition sealed origina...</td>\n",
              "      <td>Phone arrived perfect condition sealed origina...</td>\n",
              "      <td>phone arrived perfect condition sealed origina...</td>\n",
              "      <td>phone arriv perfect condit seal origin packag ...</td>\n",
              "      <td>phone arriv perfect condit seal origin packag ...</td>\n",
              "      <td>2</td>\n",
              "      <td>0</td>\n",
              "    </tr>\n",
              "  </tbody>\n",
              "</table>\n",
              "</div>\n",
              "      <button class=\"colab-df-convert\" onclick=\"convertToInteractive('df-1af58196-482b-456d-98d0-b3928eaabb82')\"\n",
              "              title=\"Convert this dataframe to an interactive table.\"\n",
              "              style=\"display:none;\">\n",
              "        \n",
              "  <svg xmlns=\"http://www.w3.org/2000/svg\" height=\"24px\"viewBox=\"0 0 24 24\"\n",
              "       width=\"24px\">\n",
              "    <path d=\"M0 0h24v24H0V0z\" fill=\"none\"/>\n",
              "    <path d=\"M18.56 5.44l.94 2.06.94-2.06 2.06-.94-2.06-.94-.94-2.06-.94 2.06-2.06.94zm-11 1L8.5 8.5l.94-2.06 2.06-.94-2.06-.94L8.5 2.5l-.94 2.06-2.06.94zm10 10l.94 2.06.94-2.06 2.06-.94-2.06-.94-.94-2.06-.94 2.06-2.06.94z\"/><path d=\"M17.41 7.96l-1.37-1.37c-.4-.4-.92-.59-1.43-.59-.52 0-1.04.2-1.43.59L10.3 9.45l-7.72 7.72c-.78.78-.78 2.05 0 2.83L4 21.41c.39.39.9.59 1.41.59.51 0 1.02-.2 1.41-.59l7.78-7.78 2.81-2.81c.8-.78.8-2.07 0-2.86zM5.41 20L4 18.59l7.72-7.72 1.47 1.35L5.41 20z\"/>\n",
              "  </svg>\n",
              "      </button>\n",
              "      \n",
              "  <style>\n",
              "    .colab-df-container {\n",
              "      display:flex;\n",
              "      flex-wrap:wrap;\n",
              "      gap: 12px;\n",
              "    }\n",
              "\n",
              "    .colab-df-convert {\n",
              "      background-color: #E8F0FE;\n",
              "      border: none;\n",
              "      border-radius: 50%;\n",
              "      cursor: pointer;\n",
              "      display: none;\n",
              "      fill: #1967D2;\n",
              "      height: 32px;\n",
              "      padding: 0 0 0 0;\n",
              "      width: 32px;\n",
              "    }\n",
              "\n",
              "    .colab-df-convert:hover {\n",
              "      background-color: #E2EBFA;\n",
              "      box-shadow: 0px 1px 2px rgba(60, 64, 67, 0.3), 0px 1px 3px 1px rgba(60, 64, 67, 0.15);\n",
              "      fill: #174EA6;\n",
              "    }\n",
              "\n",
              "    [theme=dark] .colab-df-convert {\n",
              "      background-color: #3B4455;\n",
              "      fill: #D2E3FC;\n",
              "    }\n",
              "\n",
              "    [theme=dark] .colab-df-convert:hover {\n",
              "      background-color: #434B5C;\n",
              "      box-shadow: 0px 1px 3px 1px rgba(0, 0, 0, 0.15);\n",
              "      filter: drop-shadow(0px 1px 2px rgba(0, 0, 0, 0.3));\n",
              "      fill: #FFFFFF;\n",
              "    }\n",
              "  </style>\n",
              "\n",
              "      <script>\n",
              "        const buttonEl =\n",
              "          document.querySelector('#df-1af58196-482b-456d-98d0-b3928eaabb82 button.colab-df-convert');\n",
              "        buttonEl.style.display =\n",
              "          google.colab.kernel.accessAllowed ? 'block' : 'none';\n",
              "\n",
              "        async function convertToInteractive(key) {\n",
              "          const element = document.querySelector('#df-1af58196-482b-456d-98d0-b3928eaabb82');\n",
              "          const dataTable =\n",
              "            await google.colab.kernel.invokeFunction('convertToInteractive',\n",
              "                                                     [key], {});\n",
              "          if (!dataTable) return;\n",
              "\n",
              "          const docLinkHtml = 'Like what you see? Visit the ' +\n",
              "            '<a target=\"_blank\" href=https://colab.research.google.com/notebooks/data_table.ipynb>data table notebook</a>'\n",
              "            + ' to learn more about interactive tables.';\n",
              "          element.innerHTML = '';\n",
              "          dataTable['output_type'] = 'display_data';\n",
              "          await google.colab.output.renderOutput(dataTable, element);\n",
              "          const docLink = document.createElement('div');\n",
              "          docLink.innerHTML = docLinkHtml;\n",
              "          element.appendChild(docLink);\n",
              "        }\n",
              "      </script>\n",
              "    </div>\n",
              "  </div>\n",
              "  "
            ]
          },
          "metadata": {},
          "execution_count": 42
        }
      ]
    },
    {
      "cell_type": "code",
      "source": [
        "import scipy\n",
        "from scipy.cluster import hierarchy\n",
        "Dendogram = hierarchy.dendrogram(hierarchy.linkage(vectors,method='ward'))\n",
        "plt.axhline(y=10)"
      ],
      "metadata": {
        "colab": {
          "base_uri": "https://localhost:8080/",
          "height": 285
        },
        "id": "jmjrOlerZEX5",
        "outputId": "59e695a7-f00a-4237-8621-b3fecf1027df"
      },
      "execution_count": 43,
      "outputs": [
        {
          "output_type": "execute_result",
          "data": {
            "text/plain": [
              "<matplotlib.lines.Line2D at 0x7f5faf2ff2d0>"
            ]
          },
          "metadata": {},
          "execution_count": 43
        },
        {
          "output_type": "display_data",
          "data": {
            "text/plain": [
              "<Figure size 432x288 with 1 Axes>"
            ],
            "image/png": "[encoded data removed]"
          },
          "metadata": {
            "needs_background": "light"
          }
        }
      ]
    },
    {
      "cell_type": "code",
      "source": [
        "from sklearn.cluster import AgglomerativeClustering\n",
        "\n",
        "clustering_analysis = AgglomerativeClustering(n_clusters=7, affinity='euclidean', linkage='ward')  \n",
        "Agg = clustering_analysis.fit_predict(vectors)\n",
        "Df1['WMword cluster'] = clustering_analysis.labels_\n",
        "Df1.head(6)\n",
        "Df1.groupby(['WMword cluster'])['freshdata'].count()"
      ],
      "metadata": {
        "colab": {
          "base_uri": "https://localhost:8080/"
        },
        "id": "0WoVwXDaZFbv",
        "outputId": "0674c8e7-6945-4cf9-f751-de3f389ef46a"
      },
      "execution_count": 44,
      "outputs": [
        {
          "output_type": "execute_result",
          "data": {
            "text/plain": [
              "WMword cluster\n",
              "0     134\n",
              "1    1494\n",
              "2     751\n",
              "3     169\n",
              "4     635\n",
              "5     612\n",
              "6     205\n",
              "Name: freshdata, dtype: int64"
            ]
          },
          "metadata": {},
          "execution_count": 44
        }
      ]
    },
    {
      "cell_type": "code",
      "source": [
        "for a in range(6):\n",
        "    print(\"sentence\", a) #reviews assigned to cluster\n",
        "    print(Df1.iloc[Df1.groupby(['WMword cluster']).groups[a][0]]['freshdata'])\n",
        "    print(Df1.iloc[Df1.groupby(['WMword cluster']).groups[a][1]]['freshdata'])"
      ],
      "metadata": {
        "colab": {
          "base_uri": "https://localhost:8080/"
        },
        "id": "xechgUwbZMq6",
        "outputId": "05f00982-f720-4eec-cbc0-f5de548207a0"
      },
      "execution_count": 45,
      "outputs": [
        {
          "output_type": "stream",
          "name": "stdout",
          "text": [
            "sentence 0\n",
            "ye\n",
            "exelent producto\n",
            "sentence 1\n",
            "excel well perfect.\n",
            "it' use privet inform it. i can't recov pin\n",
            "sentence 2\n",
            "phone sound much tinni previou iphones. otherwis everyth el great.\n",
            "phone not work att associ complet differ phone. i order iphon s gb gold, receiv platinum also imi list blue gb c. thi not used, basic bought overpr ipod.\n",
            "sentence 3\n",
            "a advertised, arriv quickly. thanks.\n",
            "ok\n",
            "sentence 4\n",
            "love it!\n",
            "bought altern replac moto g st generation. the size slightli longer moto, width moto. i want like phone edg edg screen g. unfortunately, i return follow reasons. first, got hot back side i set up. second, sound level ear piec low comparison moto g. possibl defective? probabl extern speaker volum also much lower moto g. lastly, i surpris find g much faster moto g g data downloads. mayb i expect much i think worth $ upgrad moto g.\n",
            "sentence 5\n",
            "best phone ever look qualiti perform speed camera featur phone phenomen love i upgrad s\n",
            "thi phone awsome.\n"
          ]
        }
      ]
    },
    {
      "cell_type": "markdown",
      "metadata": {
        "id": "Tl3P7HtvTfH9"
      },
      "source": [
        "In one paragraph, please compare K means, DBSCAN and Hierarchical clustering."
      ]
    },
    {
      "cell_type": "markdown",
      "source": [
        "K-means clustering is an algorithm that categorizes attributes and features into k groups. In this case, K is a positive integer, and the sum of the squares of the distance is grouped by minimization and the centroid cluster. This clustering is the most commonly used in the industry today, and it computes faster than any other clustering technique, but it does not produce the same results every time because the resulting clusters are determined by the initial random assignments. K-means simply reduces the variance in a cluster known as SSE (Sum of squared errors).\n",
        "\n",
        "DBscan is a density based non-parametric clustering algorithm. The set of points are grouped together which are closely packed marking as outliers in low-density region.\n",
        "\n",
        "Hierarchical clustering is an unsupervised technique that gives successive clustering based on previously established clusters. Agglomerative is the on of the hierarchical clustering alogorithm which begins each one into seperate clusters and then merges into larger one. In this clustering method, the elements are grouped based on the distance between the each cluster"
      ],
      "metadata": {
        "id": "M8bXJMHla39g"
      }
    }
  ],
  "metadata": {
    "kernelspec": {
      "display_name": "Python 3 (ipykernel)",
      "language": "python",
      "name": "python3"
    },
    "language_info": {
      "codemirror_mode": {
        "name": "ipython",
        "version": 3
      },
      "file_extension": ".py",
      "mimetype": "text/x-python",
      "name": "python",
      "nbconvert_exporter": "python",
      "pygments_lexer": "ipython3",
      "version": "3.9.12"
    },
    "colab": {
      "provenance": [],
      "include_colab_link": true
    }
  },
  "nbformat": 4,
  "nbformat_minor": 0
}