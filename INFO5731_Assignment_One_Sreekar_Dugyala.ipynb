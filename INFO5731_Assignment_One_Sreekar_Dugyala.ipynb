{
  "cells": [
    {
      "cell_type": "markdown",
      "metadata": {
        "id": "view-in-github",
        "colab_type": "text"
      },
      "source": [
        "<a href=\"https://colab.research.google.com/github/SreekarDugyala/Sreekar_INFO5731_Fall_2021/blob/main/INFO5731_Assignment_One_Sreekar_Dugyala.ipynb\" target=\"_parent\"><img src=\"https://colab.research.google.com/assets/colab-badge.svg\" alt=\"Open In Colab\"/></a>"
      ]
    },
    {
      "cell_type": "markdown",
      "metadata": {
        "id": "Ryk8D1Q4Wsrp"
      },
      "source": [
        "# **INFO5731 Assignment One**"
      ]
    },
    {
      "cell_type": "markdown",
      "metadata": {
        "id": "90_NR8c5XGWc"
      },
      "source": [
        "# Question 1\n",
        "\n",
        "(20 points). Write a Python program to generate 12 random numbers between 1 and 100. Sort the list of numbers in ascending order and print it out. Sort the list of numbers in descending order and print it out. Calculate the average for the group and print it out."
      ]
    },
    {
      "cell_type": "code",
      "execution_count": null,
      "metadata": {
        "id": "5QX6bJjGWXY9",
        "outputId": "6dc6499c-9031-448f-a79e-b128cb9d6861"
      },
      "outputs": [
        {
          "name": "stdout",
          "output_type": "stream",
          "text": [
            "Random numbers are  [52, 45, 70, 35, 28, 29, 50, 69, 13, 64, 61, 47]\n",
            "Ascending order  [13, 28, 29, 35, 45, 47, 50, 52, 61, 64, 69, 70]\n",
            "Descending order  [70, 69, 64, 61, 52, 50, 47, 45, 35, 29, 28, 13]\n",
            "Average is  46.916666666666664\n"
          ]
        }
      ],
      "source": [
        "# Program to generate 12 random numbers between 1 and 100.\n",
        "import random\n",
        "rl = random.sample(range(1, 100),12)\n",
        "print(\"Random numbers are \",rl)\n",
        "rl.sort()\n",
        "print(\"Ascending order \",rl)\n",
        "rl.sort(reverse=True)\n",
        "print(\"Descending order \",rl)\n",
        "var= (sum(rl))/len(rl)\n",
        "print(\"Average is \",str(var))"
      ]
    },
    {
      "cell_type": "markdown",
      "metadata": {
        "id": "1F_PZdH9Sh49"
      },
      "source": [
        "# Question 2\n",
        "(25 points). Write a program that will do the following string formatting tasks:\n",
        "\n",
        "(1) Ask the user to enter two sentences.\n",
        "\n",
        "(2) Make each sentence into a list. Each element in the list should correspond to a word in the sentence. For example, if the sentence is \"Alas! Am I alive? This is my first python program\", the program should print out ['Alas, '!', 'Am', 'I', 'alive, '?', 'This', 'is', 'my', 'first', 'python', 'program'].\n",
        "\n",
        "(3) Compare the two sentences. Print out a list of words that occur in both sentences.\n",
        "\n",
        "(4) Remove any punctuation from the sentence and print it back out. It should remove at least the following characters, but it can remove more: period(“.”), comma (“,”), semicolon (“;”), and colon (“:”)\n",
        "\n",
        "(5) Count the number of vowels in the sentences. Print out each vowel and the number of times it appears in the sentences, such as: a:2, e:1, i:0, etc"
      ]
    },
    {
      "cell_type": "code",
      "execution_count": null,
      "metadata": {
        "id": "Y0oOSlsOS0cq",
        "outputId": "e0996771-4b36-4507-8185-f43ba8bf2196"
      },
      "outputs": [
        {
          "name": "stdout",
          "output_type": "stream",
          "text": [
            "Enter 1st sentence: hehh hehehm, hehek,jejd.\n",
            "hehh hehehm, hehek,jejd.\n",
            "Enter 2nd sentence: fjkdk, kdlsok, ldjdks.\n",
            "fjkdk, kdlsok, ldjdks.\n",
            "separating first sentence into the wordslist: ['hehh', 'hehehm,', 'hehek,jejd.']\n",
            "separating second sentence into the wordslist: ['fjkdk,', 'kdlsok,', 'ldjdks.']\n",
            "wordslist in both the sentences: set()\n",
            "First sentence without punctuation:hehh hehehm hehekjejd\n",
            "Second sentence without punctuation: fjkdk kdlsok ldjdks\n",
            "counting the vowels in first  sentence:6\n",
            "Print vowels in the First sentence: {'A': 0, 'a': 0, 'E': 0, 'e': 6, 'I': 0, 'i': 0, 'O': 0, 'o': 0, 'U': 0, 'u': 0}\n",
            "counting the vowels in second sentence: 1\n",
            "print vowels in the second sentence: {'A': 0, 'a': 0, 'E': 0, 'e': 0, 'I': 0, 'i': 0, 'O': 0, 'o': 1, 'U': 0, 'u': 0}\n"
          ]
        }
      ],
      "source": [
        "#Question(1)\n",
        "\n",
        "s1 = input(\"Enter 1st sentence: \")\n",
        "print(s1)\n",
        "\n",
        "s2 = input(\"Enter 2nd sentence: \")\n",
        "print(s2)\n",
        "\n",
        "#question(2)\n",
        "\n",
        "wordslist1 = s1.split()\n",
        "print(\"separating first sentence into the wordslist: \" + str(wordslist1))\n",
        "\n",
        "wordslist2 = s2.split()\n",
        "print(\"separating second sentence into the wordslist: \" + str(wordslist2))\n",
        "\n",
        "#quesiton(3)\n",
        "\n",
        "dualwordslist = set(wordslist1)&set(wordslist2)\n",
        "print(\"wordslist in both the sentences: \" + str(dualwordslist))\n",
        "\n",
        "#question(4)\n",
        "\n",
        "punctuation = '''!()-[]{};:'\"\\,<>./?@#$%^&*_~'''\n",
        "no_punctuation_in_s1 = \"\"\n",
        "for var in s1:\n",
        "    if var not in punctuation:\n",
        "        no_punctuation_in_s1 = no_punctuation_in_s1 + var\n",
        "print(\"First sentence without punctuation:\" + str(no_punctuation_in_s1))\n",
        "\n",
        "no_punctuation_in_s2 = \"\"\n",
        "for var in s2:\n",
        "    if var not in punctuation:\n",
        "        no_punctuation_in_s2 = no_punctuation_in_s2 + var\n",
        "print(\"Second sentence without punctuation: \" + str(no_punctuation_in_s2))\n",
        "\n",
        "#question(5)\n",
        "\n",
        "def Chk_Vow(s1,vowel1):\n",
        "    fin1 = [each for each in s1 if each in vowel1]\n",
        "    print(\"counting the vowels in first  sentence:\" + str(len(fin1)))\n",
        "    s1 = s1.casefold()\n",
        "    cou1 = {}.fromkeys(vowel1, 0)\n",
        "    for var in s1:\n",
        "        if var in cou1:\n",
        "            cou1[var] += 1\n",
        "    return cou1\n",
        "vowel1 = \"AaEeIiOoUu\"\n",
        "print(\"Print vowels in the First sentence: \" + str(Chk_Vow(s1, vowel1)))\n",
        "\n",
        "def Chk_Vow(s2,vowel2):\n",
        "    fin2 = [each for each in s2 if each in vowel2]\n",
        "    print(\"counting the vowels in second sentence: \" + str(len(fin2)))\n",
        "    s2 = s2.casefold()\n",
        "    cou2 = {}.fromkeys(vowel2, 0)\n",
        "    for var in s2:\n",
        "        if var in cou2:\n",
        "            cou2[var] +=1\n",
        "    return cou2\n",
        "vowel2 = \"AaEeIiOoUu\"\n",
        "print(\"print vowels in the second sentence: \" + str(Chk_Vow(s2, vowel2)))"
      ]
    },
    {
      "cell_type": "markdown",
      "metadata": {
        "id": "CmFoI4jDS9nx"
      },
      "source": [
        "# Question 3 \n",
        "\n",
        "(15 points). The formula that describes the volume V of a sphere with radius r is the following:\n",
        "\n",
        "$ V=\\frac{4}{3}\\ast\\ \\pi\\ast\\ r^3 $\n",
        "\n",
        "Write a program to calculate the value of V when r is in the range of 1–10. Output the result in the following format:\n",
        "\n",
        "\tr\tV\n",
        "\t1\t…\n",
        "\t2\t…\n",
        "\t3\t…\n"
      ]
    },
    {
      "cell_type": "code",
      "execution_count": null,
      "metadata": {
        "id": "pEyqeioAT95b",
        "outputId": "c9352e95-5d56-4ee5-b09c-3a58e70c8346"
      },
      "outputs": [
        {
          "name": "stdout",
          "output_type": "stream",
          "text": [
            "r   V\n",
            "1   4.1866666666666665\n",
            "2   33.49333333333333\n",
            "3   113.03999999999999\n",
            "4   267.94666666666666\n",
            "5   523.3333333333334\n",
            "6   904.3199999999999\n",
            "7   1436.0266666666666\n",
            "8   2143.5733333333333\n",
            "9   3052.08\n",
            "10   4186.666666666667\n"
          ]
        }
      ],
      "source": [
        "# Program to calculate the value of V when r is in the range of 1 to 10.\n",
        "print(\"r   V\")\n",
        "for var in range(1,11):\n",
        "    print(var,end=\"   \")\n",
        "    volume =(4/3)*(3.14)*(pow(var,3))\n",
        "    print(volume)"
      ]
    },
    {
      "cell_type": "markdown",
      "metadata": {
        "id": "z3tBE7E-Xn5X"
      },
      "source": [
        "# Question 4\n",
        "\n",
        "(40 points). In the field of Data Science, data is often formatted as a comma-delimited (CSV) file, where each line in a file corresponds to a field's value. Refer to Chapter 9 (p. 106) for more information on comma-delimited files. To answer this question, you will need to download the file [Assignment1_denton_housing.csv](https://github.com/unt-iialab/info5731-fall2021/blob/main/assignments/Assignment1_denton_housing.csv) included with this assignment. The file [Assignment1_denton_housing.csv](https://github.com/unt-iialab/info5731-fall2021/blob/main/assignments/Assignment1_denton_housing.csv) contains statistics about housing in the city of Denton from 2008 to 2014. Write a program to implement the following questions.\n",
        "\n",
        "(1) (10 pts) Calculate the difference in the number of Occupied Housing Units from year to year and print it. The difference must be calculated for the consecutive years such as 2008-2009, 2009-2010 etc. Finally, print the values in the ascending order.\n",
        "\n",
        "(2) (10 pts) For all the years, calculate the percentage of housing units which are vacant an occupied. Print the results in the following format:\n",
        "\n",
        "Year Vacant Housing Units Occupied Housing Units\n",
        "\n",
        "    2008  30%   70%                          \n",
        "\t2009 ----- -----\n",
        "\t2010 ----- -----\n",
        "    2011 ----- -----\n",
        "\t2012 ----- -----\n",
        "    2013 ----- -----\n",
        "\t2014 ----- -----\n",
        "  \n",
        "  \n",
        "\n",
        "(3) (10 pts) Calculate and print the valued and years in which the highest number of housing units were vacant and occupied. Print the results in the following format:  \n",
        "\n",
        "                              Year\tValue\n",
        "\tVacant Housing Units\t  -----   -----\n",
        "\tOccupied Housing Units\t-----   -----\n",
        "\n",
        "(4) (10 pts) Calculate the harmonic mean of the total housing units and print it out. You can find the information about harmonic mean here: https://ncalculators.com/statistics/harmonic-mean-calculator.htm"
      ]
    },
    {
      "cell_type": "code",
      "execution_count": null,
      "metadata": {
        "id": "lqGYuHBhcsRH",
        "outputId": "20846a9f-2bd9-4202-c2c9-123832fd82a7"
      },
      "outputs": [
        {
          "name": "stdout",
          "output_type": "stream",
          "text": [
            "Difference in number of Occ Housing Units from year to year:\n",
            "-795.0\n",
            "-303.0\n",
            "1404.0\n",
            "1565.0\n",
            "2622.0\n",
            "5091.0\n",
            "   NaN\n",
            " \n",
            " year  Vacant Housing Units  Occupied Housing Units\n",
            " 2008             10.882653               10.882653\n",
            " 2009              9.071116                9.071116\n",
            " 2010              8.142556                8.142556\n",
            " 2011              9.379522                9.379522\n",
            " 2012              6.677600                6.677600\n",
            " 2013              8.801788                8.801788\n",
            " 2014              5.730111                5.730111\n",
            " \n",
            "Empty DataFrame\n",
            "Columns: [title_field, year, value]\n",
            "Index: []\n",
            " \n",
            "Hormonic Mean :  44398.28543969185\n"
          ]
        }
      ],
      "source": [
        "#quesiton(1)\n",
        "\n",
        "import pandas as pandu\n",
        "fileUrl = \"https://raw.githubusercontent.com/unt-iialab/info5731-fall2021/main/assignments/Assignment1_denton_housing.csv\"\n",
        "fileToBeRead = pandu.read_csv(fileUrl)\n",
        "fileToBeRead = fileToBeRead[fileToBeRead['title_field']=='Occupied Housing Units']\n",
        "sorted_years = fileToBeRead.sort_values('year')\n",
        "after_years = sorted_years['value'].diff().sort_values()\n",
        "print('Difference in number of Occ Housing Units from year to year:')\n",
        "print(after_years.to_string(index=False))\n",
        "print(\" \")\n",
        "\n",
        "#question(2)\n",
        "\n",
        "import pandas as pandu\n",
        "c1 = 0\n",
        "c2 = 0\n",
        "vacated_values = []\n",
        "occupied_values = []\n",
        "fileUrl = \"https://raw.githubusercontent.com/unt-iialab/info5731-fall2021/main/assignments/Assignment1_denton_housing.csv\"\n",
        "fileToBeRead = pandu.read_csv(fileUrl)\n",
        "fileToBeRead_1 = fileToBeRead[(fileToBeRead['title_field'] == 'Vacant Housing Units')].sort_values('year')['value'].tolist()\n",
        "fileToBeRead_2 = fileToBeRead[(fileToBeRead['title_field'] == 'Occupied Housing Units')].sort_values('year')['value'].tolist()\n",
        "fileToBeRead_3 = fileToBeRead[(fileToBeRead['title_field'] == 'Total Housing Units')].sort_values('year')\n",
        "for var1 in fileToBeRead_3['value']:\n",
        "    x = (fileToBeRead_1[c1]/var1)*100\n",
        "    c1+=1\n",
        "    vacated_values.append(x)\n",
        "for var2 in fileToBeRead_3['value']:\n",
        "    x = (fileToBeRead_1[c2]/var2)*100\n",
        "    c2+=1\n",
        "    occupied_values.append(x)   \n",
        "vac = pandu.DataFrame(vacated_values,columns=['Vacant Housing Units'])\n",
        "occ = pandu.DataFrame(occupied_values,columns=['Occupied Housing Units'])\n",
        "tot = pandu.concat([vac,occ],axis=1)\n",
        "tot = pandu.concat([fileToBeRead_3['year'].reset_index(),tot],axis=1)\n",
        "tot = tot[['year','Vacant Housing Units','Occupied Housing Units']]    \n",
        "print(tot.to_string(index=False))\n",
        "print(\" \")\n",
        "\n",
        "#question(3)\n",
        "\n",
        "import pandas as pd\n",
        "fileUrl = \"https://raw.githubusercontent.com/unt-iialab/info5731-fall2021/main/assignments/Assignment1_denton_housing.csv\"\n",
        "d_f=pandu.read_csv(fileUrl)\n",
        "d_f[d_f['title_field'] == 'Vacant Units']\n",
        "\n",
        "Max_value_vct1=d_f.loc[d_f['title_field'] == 'Vacant Units']\n",
        "M1=Max_value_vct1[Max_value_vct1.value == Max_value_vct1.value.max()]\n",
        "\n",
        "Max_value_occ1=d_f.loc[d_f['title_field'] == 'Occupied Units']\n",
        "M2=Max_value_occ1[Max_value_occ1.value == Max_value_occ1.value.max()]\n",
        "\n",
        "df_1=pd.concat([M1,M2])\n",
        "df_1_final = df_1[['title_field','year','value']]\n",
        "print(df_1_final.to_string(index=False))\n",
        "print(\" \")\n",
        "\n",
        "#question(4)\n",
        "\n",
        "import pandas as p\n",
        "import numpy as n\n",
        "from scipy import stats\n",
        "fileUrl = \"https://raw.githubusercontent.com/unt-iialab/info5731-fall2021/main/assignments/Assignment1_denton_housing.csv\"\n",
        "fileToBeRead = p.read_csv(fileUrl)\n",
        "fileToBeRead=fileToBeRead[fileToBeRead['title_field']=='Total Housing Units']\n",
        "har_mean=stats.hmean(fileToBeRead['value'])\n",
        "print(f\"Hormonic Mean :  {har_mean}\")"
      ]
    }
  ],
  "metadata": {
    "colab": {
      "collapsed_sections": [],
      "provenance": [],
      "include_colab_link": true
    },
    "kernelspec": {
      "display_name": "Python 3 (ipykernel)",
      "language": "python",
      "name": "python3"
    },
    "language_info": {
      "codemirror_mode": {
        "name": "ipython",
        "version": 3
      },
      "file_extension": ".py",
      "mimetype": "text/x-python",
      "name": "python",
      "nbconvert_exporter": "python",
      "pygments_lexer": "ipython3",
      "version": "3.9.12"
    }
  },
  "nbformat": 4,
  "nbformat_minor": 0
}